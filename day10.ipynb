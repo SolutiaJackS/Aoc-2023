{
 "cells": [
  {
   "cell_type": "code",
   "execution_count": 4,
   "metadata": {},
   "outputs": [],
   "source": [
    "import requests\n",
    "import json\n",
    "\n",
    "url = \"https://adventofcode.com/2023/day/10/input\"\n",
    "\n",
    "with open(\"local.settings.json\", 'r') as file:\n",
    "    content = file.read()\n",
    "    data = json.loads(content)\n",
    "\n",
    "    session = data['session_token']\n",
    "\n",
    "headers = {\n",
    "    'Cookie': f'session={session}'\n",
    "}\n",
    "response = requests.get(url, headers=headers)\n",
    "\n",
    "if response.status_code == 200:\n",
    "    # Print the content of the response\n",
    "    pass\n",
    "else:\n",
    "    # Print an error message if the request was not successful\n",
    "    print(f\"Error: {response.status_code}\")\n",
    "    print(response.text)\n",
    "\n",
    "lines = response.text.split('\\n')[:-1]\n",
    "\n"
   ]
  },
  {
   "cell_type": "code",
   "execution_count": 5,
   "metadata": {},
   "outputs": [],
   "source": [
    "grid = [[0 for _ in range(len(lines[0]))] for _ in range(len(lines))]\n",
    "for y in range(len(lines)):\n",
    "    for x in range(0, len(lines[0])):\n",
    "        grid[y][x] = lines[y][x]\n",
    "    #     print(grid[y][x], end=\"\")\n",
    "    # print(\"\\n\")\n"
   ]
  },
  {
   "cell_type": "code",
   "execution_count": 6,
   "metadata": {},
   "outputs": [
    {
     "name": "stdout",
     "output_type": "stream",
     "text": [
      "(55, 38)\n"
     ]
    }
   ],
   "source": [
    "start_x = 0\n",
    "start_y = 0\n",
    "# find starting\n",
    "for y in range(len(lines)):\n",
    "    for x in range(0, len(lines[0])):\n",
    "        val = grid[y][x]\n",
    "        if val == 'S':\n",
    "            print(f\"({x}, {y})\")\n",
    "            start_x = x\n",
    "            start_y = y"
   ]
  },
  {
   "cell_type": "code",
   "execution_count": 7,
   "metadata": {},
   "outputs": [
    {
     "name": "stdout",
     "output_type": "stream",
     "text": [
      "S\n",
      "|\n",
      "|\n",
      "7\n",
      "L\n"
     ]
    }
   ],
   "source": [
    "x = 55\n",
    "y = 38\n",
    "\n",
    "print(grid[y][x])\n",
    "print(grid[y-1][x])\n",
    "print(grid[y+1][x])\n",
    "print(grid[y][x-1])\n",
    "print(grid[y][x+1])\n"
   ]
  },
  {
   "cell_type": "code",
   "execution_count": 8,
   "metadata": {},
   "outputs": [
    {
     "data": {
      "text/plain": [
       "[55, 36]"
      ]
     },
     "execution_count": 8,
     "metadata": {},
     "output_type": "execute_result"
    }
   ],
   "source": [
    "validTop = set(\"|F7\")\n",
    "validBottom = set(\"|JL\")\n",
    "validLeft = set(\"-FL\")\n",
    "validRight = set(\"-7J\")\n",
    "def next_step(x, y, pre_x, pre_y):\n",
    "    symbol = grid[y][x]\n",
    "    if symbol == \"S\":\n",
    "        if grid[y-1][x] in validTop:\n",
    "            return [x, y-1]\n",
    "        if grid[y+1][x] in validBottom:\n",
    "            return [x, y+1]\n",
    "        if grid[y][x-1] in validLeft:\n",
    "            return [x-1, y]\n",
    "        if grid[y][x+1] in validRight:\n",
    "            return [x+1, y]\n",
    "    if symbol == \"|\":\n",
    "        if pre_y < y:\n",
    "            return [x, y+1]\n",
    "        else:\n",
    "            return [x, y-1]\n",
    "    if symbol == \"F\":\n",
    "        if pre_y < y:\n",
    "            return [x+1, y]\n",
    "        else:\n",
    "            return[x, y+1]\n",
    "    if symbol == \"7\":\n",
    "        if pre_y < y:\n",
    "            return[x-1, y]\n",
    "        else:\n",
    "            return [x,y+1]\n",
    "    if symbol == \"J\":\n",
    "        if pre_x < x:\n",
    "            return [x, y-1]\n",
    "        else:\n",
    "            return [x-1, y]\n",
    "    \n",
    "        \n",
    "next_step(55,38, 0, 0)\n",
    "next_step(55, 37, 55, 38)"
   ]
  },
  {
   "cell_type": "code",
   "execution_count": 9,
   "metadata": {},
   "outputs": [
    {
     "data": {
      "text/plain": [
       "7086"
      ]
     },
     "execution_count": 9,
     "metadata": {},
     "output_type": "execute_result"
    }
   ],
   "source": [
    "import math\n",
    "validTop = set(\"|F7\")\n",
    "validBottom = set(\"|JL\")\n",
    "validLeft = set(\"-FL\")\n",
    "validRight = set(\"-7J\")\n",
    "def next_step(x, y, pre_x, pre_y):\n",
    "    symbol = grid[y][x]\n",
    "    if symbol == \"S\":\n",
    "        if grid[y-1][x] in validTop:\n",
    "            return [x, y-1]\n",
    "        if grid[y+1][x] in validBottom:\n",
    "            return [x, y+1]\n",
    "        if grid[y][x-1] in validLeft:\n",
    "            return [x-1, y]\n",
    "        if grid[y][x+1] in validRight:\n",
    "            return [x+1, y]\n",
    "    if symbol == \"|\":\n",
    "        if pre_y < y:\n",
    "            return [x, y+1]\n",
    "        else:\n",
    "            return [x, y-1]\n",
    "    if symbol == \"F\":\n",
    "        if pre_y > y:\n",
    "            return [x+1, y]\n",
    "        else:\n",
    "            return[x, y+1]\n",
    "    if symbol == \"7\":\n",
    "        if pre_y > y:\n",
    "            return[x-1, y]\n",
    "        else:\n",
    "            return [x,y+1]\n",
    "    if symbol == \"J\":\n",
    "        if pre_x < x:\n",
    "            return [x, y-1]\n",
    "        else:\n",
    "            return [x-1, y]\n",
    "    if symbol == \"-\":\n",
    "        if pre_x < x:\n",
    "            return [x+1, y]\n",
    "        else:\n",
    "            return [x-1, y] \n",
    "    if symbol == \"L\":\n",
    "        if pre_x > x:\n",
    "            return [x, y-1]\n",
    "        else:\n",
    "            return [x+1, y]\n",
    "\n",
    "\n",
    "old_x = 0\n",
    "old_y = 0\n",
    "x = start_x\n",
    "y = start_y\n",
    "symbol_list = []\n",
    "symbol_list.append(grid[y][x])\n",
    "done = False\n",
    "while not done:\n",
    "    results = next_step(x, y, old_x, old_y)\n",
    "    # print(results)\n",
    "    old_x = x\n",
    "    old_y = y\n",
    "    x = results[0]\n",
    "    y = results[1]\n",
    "    new_symbol = grid[y][x]\n",
    "    symbol_list.append(new_symbol)\n",
    "    if new_symbol == \"S\":\n",
    "        done = True\n",
    "\n",
    "\n",
    "# print(\"\\n\")\n",
    "# print(symbol_list)\n",
    "math.floor(len(symbol_list)/2)"
   ]
  },
  {
   "cell_type": "code",
   "execution_count": 10,
   "metadata": {},
   "outputs": [
    {
     "name": "stdout",
     "output_type": "stream",
     "text": [
      "points 14172\n"
     ]
    }
   ],
   "source": [
    "# lines = ['...........',\n",
    "# '.S-------7.',\n",
    "# '.|F-----7|.',\n",
    "# '.||.....||.',\n",
    "# '.||.....||.',\n",
    "# '.|L-7.F-J|.',\n",
    "# '.|..|.|..|.',\n",
    "# '.L--J.L--J.',\n",
    "# '...........']\n",
    "\n",
    "# grid = [[0 for _ in range(len(lines[0]))] for _ in range(len(lines))]\n",
    "# for y in range(len(lines)):\n",
    "#     for x in range(0, len(lines[0])):\n",
    "#         grid[y][x] = lines[y][x]\n",
    "#         print(grid[y][x], end=\"\")\n",
    "#     print(\"\\n\")\n",
    "\n",
    "import math\n",
    "validTop = set(\"|F7\")\n",
    "validBottom = set(\"|JL\")\n",
    "validLeft = set(\"-FL\")\n",
    "validRight = set(\"-7J\")\n",
    "endpoints = set(\"F7LJ\")\n",
    "def next_step(x, y, pre_x, pre_y):\n",
    "    symbol = grid[y][x]\n",
    "    if symbol == \"S\":\n",
    "        if grid[y-1][x] in validTop:\n",
    "            return [x, y-1]\n",
    "        if grid[y+1][x] in validBottom:\n",
    "            return [x, y+1]\n",
    "        if grid[y][x-1] in validLeft:\n",
    "            return [x-1, y]\n",
    "        if grid[y][x+1] in validRight:\n",
    "            return [x+1, y]\n",
    "    if symbol == \"|\":\n",
    "        if pre_y < y:\n",
    "            return [x, y+1]\n",
    "        else:\n",
    "            return [x, y-1]\n",
    "    if symbol == \"F\":\n",
    "        if pre_y > y:\n",
    "            return [x+1, y]\n",
    "        else:\n",
    "            return[x, y+1]\n",
    "    if symbol == \"7\":\n",
    "        if pre_y > y:\n",
    "            return[x-1, y]\n",
    "        else:\n",
    "            return [x,y+1]\n",
    "    if symbol == \"J\":\n",
    "        if pre_x < x:\n",
    "            return [x, y-1]\n",
    "        else:\n",
    "            return [x-1, y]\n",
    "    if symbol == \"-\":\n",
    "        if pre_x < x:\n",
    "            return [x+1, y]\n",
    "        else:\n",
    "            return [x-1, y] \n",
    "    if symbol == \"L\":\n",
    "        if pre_x > x:\n",
    "            return [x, y-1]\n",
    "        else:\n",
    "            return [x+1, y]\n",
    "\n",
    "\n",
    "old_x = 0\n",
    "old_y = 0\n",
    "x = start_x\n",
    "y = start_y\n",
    "coordinate_list = []\n",
    "points = 0\n",
    "count = 0\n",
    "coordinate_list.append([x,y])\n",
    "done = False\n",
    "while not done:\n",
    "    count += 1\n",
    "    results = next_step(x, y, old_x, old_y)\n",
    "    old_x = x\n",
    "    old_y = y\n",
    "    x = results[0]\n",
    "    y = results[1]\n",
    "    new_symbol = grid[y][x]\n",
    "    points += 1\n",
    "    if new_symbol in endpoints:\n",
    "        coordinate_list.append([x,y])\n",
    "    if new_symbol == \"S\":\n",
    "        done = True\n",
    "        coordinate_list.append([x,y])\n",
    "\n",
    "    \n",
    "print(f\"points {points}\")"
   ]
  },
  {
   "cell_type": "code",
   "execution_count": 11,
   "metadata": {},
   "outputs": [
    {
     "data": {
      "text/plain": [
       "317.0"
      ]
     },
     "execution_count": 11,
     "metadata": {},
     "output_type": "execute_result"
    }
   ],
   "source": [
    "total_area = 0\n",
    "\n",
    "# find area of shape\n",
    "for i in range(0, len(coordinate_list)-1):\n",
    "    \n",
    "    calc = (coordinate_list[i][0] * coordinate_list[i+1][1]) - (coordinate_list[i+1][0] * coordinate_list[i][1])\n",
    "    # print(f\"{coordinate_list[i][0]} * {coordinate_list[i+1][1]} - {coordinate_list[i][1]} * {coordinate_list[i+1][0]} = {calc}\")\n",
    "    total_area += calc\n",
    "\n",
    "total_area = abs(total_area)/2\n",
    "# print(total_area)\n",
    "\n",
    "\n",
    "# Pick's Theorem\n",
    "total_area + 1 - (points/2)"
   ]
  }
 ],
 "metadata": {
  "kernelspec": {
   "display_name": "Python 3",
   "language": "python",
   "name": "python3"
  },
  "language_info": {
   "codemirror_mode": {
    "name": "ipython",
    "version": 3
   },
   "file_extension": ".py",
   "mimetype": "text/x-python",
   "name": "python",
   "nbconvert_exporter": "python",
   "pygments_lexer": "ipython3",
   "version": "3.10.10"
  }
 },
 "nbformat": 4,
 "nbformat_minor": 2
}
