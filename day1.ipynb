{
 "cells": [
  {
   "cell_type": "code",
   "execution_count": 17,
   "metadata": {},
   "outputs": [],
   "source": [
    "import requests\n",
    "import json\n",
    "\n",
    "url = \"https://adventofcode.com/2023/day/1/input\"\n",
    "\n",
    "with open(\"local.settings.json\", 'r') as file:\n",
    "    content = file.read()\n",
    "    data = json.loads(content)\n",
    "\n",
    "    session = data['session_token']\n",
    "\n",
    "headers = {\n",
    "    'Cookie': f'session={session}'\n",
    "}\n",
    "response = requests.get(url, headers=headers)\n",
    "\n",
    "if response.status_code == 200:\n",
    "    # Print the content of the response\n",
    "    pass\n",
    "else:\n",
    "    # Print an error message if the request was not successful\n",
    "    print(f\"Error: {response.status_code}\")\n",
    "    print(response.text)\n",
    "\n",
    "lines = response.text.split('\\n')[:-1]"
   ]
  },
  {
   "cell_type": "code",
   "execution_count": 18,
   "metadata": {},
   "outputs": [
    {
     "data": {
      "text/plain": [
       "53080"
      ]
     },
     "execution_count": 18,
     "metadata": {},
     "output_type": "execute_result"
    }
   ],
   "source": [
    "lines = response.text.split('\\n')[:1000]\n",
    "\n",
    "\n",
    "total = 0\n",
    "for line in lines:\n",
    "    first = \"\"\n",
    "    second = \"\"\n",
    "    for letter in line:\n",
    "        if letter.isdigit():\n",
    "            first = letter\n",
    "            break\n",
    "    for letter in reversed(line):\n",
    "        if letter.isdigit():\n",
    "            second = letter\n",
    "            break\n",
    "    combine = first + second\n",
    "    try:\n",
    "        total += int(combine)\n",
    "    except Exception as e:\n",
    "        pass\n",
    "total"
   ]
  },
  {
   "cell_type": "code",
   "execution_count": 19,
   "metadata": {},
   "outputs": [
    {
     "data": {
      "text/plain": [
       "''"
      ]
     },
     "execution_count": 19,
     "metadata": {},
     "output_type": "execute_result"
    }
   ],
   "source": [
    "def word_digit(input):\n",
    "    if \"one\" in input:\n",
    "        return \"1\"\n",
    "    if \"two\" in input:\n",
    "        return \"2\"\n",
    "    if \"three\" in input:\n",
    "        return \"3\"\n",
    "    if \"four\" in input:\n",
    "        return \"4\"\n",
    "    if \"five\" in input:\n",
    "        return \"5\"\n",
    "    if \"six\" in input:\n",
    "        return \"6\"\n",
    "    if \"seven\" in input:\n",
    "        return \"7\"\n",
    "    if \"eight\" in input:\n",
    "        return \"8\"\n",
    "    if \"nine\" in input:\n",
    "        return \"9\"\n",
    "    return \"\"\n",
    "\n",
    "word_digit(\"thre\")"
   ]
  },
  {
   "cell_type": "code",
   "execution_count": 20,
   "metadata": {},
   "outputs": [
    {
     "data": {
      "text/plain": [
       "53268"
      ]
     },
     "execution_count": 20,
     "metadata": {},
     "output_type": "execute_result"
    }
   ],
   "source": [
    "def word_digit(input):\n",
    "    if \"one\" in input:\n",
    "        return \"1\"\n",
    "    if \"two\" in input:\n",
    "        return \"2\"\n",
    "    if \"three\" in input:\n",
    "        return \"3\"\n",
    "    if \"four\" in input:\n",
    "        return \"4\"\n",
    "    if \"five\" in input:\n",
    "        return \"5\"\n",
    "    if \"six\" in input:\n",
    "        return \"6\"\n",
    "    if \"seven\" in input:\n",
    "        return \"7\"\n",
    "    if \"eight\" in input:\n",
    "        return \"8\"\n",
    "    if \"nine\" in input:\n",
    "        return \"9\"\n",
    "    return \"\"\n",
    "\n",
    "# lines = [\"plggqjthree49four\"]\n",
    "lines = response.text.split(\"\\n\")[:1000]\n",
    "\n",
    "total = 0\n",
    "for line in lines:\n",
    "    first = \"\"\n",
    "    second = \"\"\n",
    "    for i in range(0, len(line)+1):\n",
    "        # print(test_word[0:i+1])\n",
    "        if line[i].isdigit():\n",
    "            first = line[i]\n",
    "            break\n",
    "        result = word_digit(line[0:i+1].lower())\n",
    "        if result != '':\n",
    "            first = result\n",
    "            break\n",
    "\n",
    "\n",
    "    for i in range(0, len(line)+1):\n",
    "        if line[len(line)-i-1].isdigit():\n",
    "            second = line[len(line)-i-1]\n",
    "            break\n",
    "        # print(test_word[len(test_word)-i:len(test_word)])\n",
    "        result = word_digit(line[len(line)-i-1:len(line)].lower())\n",
    "        if result != '':\n",
    "            second = result\n",
    "            break\n",
    "\n",
    "\n",
    "    combine = first + second\n",
    "    # print(combine)\n",
    "    try:\n",
    "        total += int(combine)\n",
    "    except Exception as e:\n",
    "        pass\n",
    "total"
   ]
  },
  {
   "cell_type": "code",
   "execution_count": null,
   "metadata": {},
   "outputs": [],
   "source": []
  }
 ],
 "metadata": {
  "kernelspec": {
   "display_name": "Python 3",
   "language": "python",
   "name": "python3"
  },
  "language_info": {
   "codemirror_mode": {
    "name": "ipython",
    "version": 3
   },
   "file_extension": ".py",
   "mimetype": "text/x-python",
   "name": "python",
   "nbconvert_exporter": "python",
   "pygments_lexer": "ipython3",
   "version": "3.10.10"
  }
 },
 "nbformat": 4,
 "nbformat_minor": 2
}
