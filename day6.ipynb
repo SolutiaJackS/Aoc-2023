{
 "cells": [
  {
   "cell_type": "code",
   "execution_count": 34,
   "metadata": {},
   "outputs": [
    {
     "name": "stdout",
     "output_type": "stream",
     "text": [
      "0 Time:        62     64     91     90\n",
      "1 Distance:   553   1010   1473   1074\n"
     ]
    }
   ],
   "source": [
    "import requests\n",
    "\n",
    "url = \"https://adventofcode.com/2023/day/6/input\"\n",
    "\n",
    "headers = {\n",
    "    'Cookie': 'session=53616c7465645f5f8b99771ea5191e6aa57c0f163b1dc1f7ff6113c253597590f6dd4c4bb399d4f6399a833c35064b3a7a9f05c2f892ebe776a643c85280ba43'\n",
    "}\n",
    "response = requests.get(url, headers=headers)\n",
    "\n",
    "if response.status_code == 200:\n",
    "    # Print the content of the response\n",
    "    pass\n",
    "else:\n",
    "    # Print an error message if the request was not successful\n",
    "    print(f\"Error: {response.status_code}\")\n",
    "    print(response.text)\n",
    "\n",
    "lines = response.text.split('\\n')[:-1]\n",
    "for line in lines:\n",
    "    print(f\"{lines.index(line)} {line}\")\n",
    "times = lines[0].split(\": \")[1].strip().split(\"     \")\n",
    "distances = lines[1].split(\": \")[1].strip().split(\"   \")"
   ]
  },
  {
   "cell_type": "code",
   "execution_count": 35,
   "metadata": {},
   "outputs": [
    {
     "data": {
      "text/plain": [
       "840336"
      ]
     },
     "execution_count": 35,
     "metadata": {},
     "output_type": "execute_result"
    }
   ],
   "source": [
    "\n",
    "def run_test(held_down, total_time):\n",
    "    remaining_time = total_time - held_down\n",
    "    dist = remaining_time * held_down\n",
    "    return dist\n",
    "\n",
    "races = len(times)\n",
    "success_list = []\n",
    "for time in times:\n",
    "    count = 0\n",
    "    for held_down in range(0, int(time) + 1):\n",
    "        distance = run_test(int(held_down), int(time))\n",
    "        if distance > int(distances[times.index(time)]):\n",
    "            count += 1\n",
    "\n",
    "    success_list.append(count)\n",
    "    \n",
    "total = 1\n",
    "for entry in success_list:\n",
    "    total *= entry\n",
    "total"
   ]
  },
  {
   "cell_type": "code",
   "execution_count": 40,
   "metadata": {},
   "outputs": [
    {
     "name": "stdout",
     "output_type": "stream",
     "text": [
      "62649190\n",
      "553101014731074\n"
     ]
    },
    {
     "data": {
      "text/plain": [
       "41382569"
      ]
     },
     "execution_count": 40,
     "metadata": {},
     "output_type": "execute_result"
    }
   ],
   "source": [
    "def run_test(held_down, total_time):\n",
    "    remaining_time = total_time - held_down\n",
    "    dist = remaining_time * held_down\n",
    "    return dist\n",
    "big_time = \"\"\n",
    "for time in times:\n",
    "    big_time += time\n",
    "big_time = int(big_time)\n",
    "print(big_time)\n",
    "\n",
    "big_distance = \"\"\n",
    "for dist in distances:\n",
    "    big_distance += dist\n",
    "big_distance = int(big_distance)\n",
    "print(big_distance)\n",
    "\n",
    "count = 0\n",
    "for held_down in range(0, int(big_time) + 1):\n",
    "        distance = run_test(held_down, big_time)\n",
    "        if distance > big_distance:\n",
    "            count += 1\n",
    "\n",
    "count\n"
   ]
  }
 ],
 "metadata": {
  "kernelspec": {
   "display_name": "Python 3",
   "language": "python",
   "name": "python3"
  },
  "language_info": {
   "codemirror_mode": {
    "name": "ipython",
    "version": 3
   },
   "file_extension": ".py",
   "mimetype": "text/x-python",
   "name": "python",
   "nbconvert_exporter": "python",
   "pygments_lexer": "ipython3",
   "version": "3.10.10"
  }
 },
 "nbformat": 4,
 "nbformat_minor": 2
}
