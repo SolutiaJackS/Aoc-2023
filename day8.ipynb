{
 "cells": [
  {
   "cell_type": "code",
   "execution_count": 2,
   "metadata": {},
   "outputs": [],
   "source": [
    "import requests\n",
    "import json\n",
    "\n",
    "url = \"https://adventofcode.com/2023/day/8/input\"\n",
    "\n",
    "with open(\"local.settings.json\", 'r') as file:\n",
    "    content = file.read()\n",
    "    data = json.loads(content)\n",
    "\n",
    "    session = data['session_token']\n",
    "\n",
    "headers = {\n",
    "    'Cookie': f'session={session}'\n",
    "}\n",
    "response = requests.get(url, headers=headers)\n",
    "\n",
    "if response.status_code == 200:\n",
    "    # Print the content of the response\n",
    "    pass\n",
    "else:\n",
    "    # Print an error message if the request was not successful\n",
    "    print(f\"Error: {response.status_code}\")\n",
    "    print(response.text)\n",
    "\n",
    "lines = response.text.split('\\n')[:-1]\n",
    "steps = lines[0]\n",
    "directions = lines[2:]\n"
   ]
  },
  {
   "cell_type": "code",
   "execution_count": 3,
   "metadata": {},
   "outputs": [
    {
     "data": {
      "text/plain": [
       "{'VTM': {'L': 'VPB', 'R': 'NKT'}}"
      ]
     },
     "execution_count": 3,
     "metadata": {},
     "output_type": "execute_result"
    }
   ],
   "source": [
    "test_key = directions[0].split(\" = \")[0]\n",
    "\n",
    "test_mapping = directions[0].split(\" = \")[1].replace(\"(\", '').replace(\")\", '').split(\", \")\n",
    "test_directions_dict = { test_key: {\"L\": test_mapping[0], \"R\": test_mapping[1]} }\n",
    "test_directions_dict"
   ]
  },
  {
   "cell_type": "code",
   "execution_count": 4,
   "metadata": {},
   "outputs": [],
   "source": [
    "direction_dict = {}\n",
    "for entry in directions:\n",
    "    key = entry.split(\" = \")[0]\n",
    "    mapping = entry.split(\" = \")[1].replace(\"(\", '').replace(\")\", '').split(\", \")\n",
    "    direction_dict[key]= {\"L\": mapping[0], \"R\": mapping[1]}"
   ]
  },
  {
   "cell_type": "code",
   "execution_count": 5,
   "metadata": {},
   "outputs": [
    {
     "name": "stdout",
     "output_type": "stream",
     "text": [
      "END!!!\n"
     ]
    },
    {
     "data": {
      "text/plain": [
       "17287"
      ]
     },
     "execution_count": 5,
     "metadata": {},
     "output_type": "execute_result"
    }
   ],
   "source": [
    "current_loc = 'AAA'\n",
    "reachEnd = False\n",
    "count = 0 \n",
    "\n",
    "while not reachEnd:\n",
    "    for step in steps:\n",
    "        current_loc = direction_dict[current_loc][step]\n",
    "        count += 1\n",
    "        if current_loc == 'ZZZ':\n",
    "            reachEnd = True\n",
    "            print(\"END!!!\")\n",
    "            break\n",
    "count"
   ]
  },
  {
   "cell_type": "code",
   "execution_count": 6,
   "metadata": {},
   "outputs": [
    {
     "name": "stdout",
     "output_type": "stream",
     "text": [
      "['GPA', 'GTA', 'VDA', 'BBA', 'AAA', 'VSA']\n",
      "['FPZ', 'SKZ', 'ZZZ', 'STZ', 'MKZ', 'CVZ']\n"
     ]
    }
   ],
   "source": [
    "#Part 2\n",
    "start_locations = []\n",
    "curr_locations = []\n",
    "for key in direction_dict:\n",
    "    if key[-1] == 'A':\n",
    "        start_locations.append(key)\n",
    "print(start_locations)\n",
    "\n",
    "end_locations = []\n",
    "for key in direction_dict:\n",
    "    if key[-1] == 'Z':\n",
    "        end_locations.append(key)\n",
    "print(end_locations)"
   ]
  },
  {
   "cell_type": "code",
   "execution_count": 7,
   "metadata": {},
   "outputs": [
    {
     "name": "stdout",
     "output_type": "stream",
     "text": [
      "['GPA', 'GTA', 'VDA', 'BBA', 'AAA', 'VSA']\n",
      "{'CVZ': 13771, 'FPZ': 20803, 'STZ': 23147, 'SKZ': 19631, 'ZZZ': 17287, 'MKZ': 17873}\n"
     ]
    },
    {
     "data": {
      "text/plain": [
       "18625484023687"
      ]
     },
     "execution_count": 7,
     "metadata": {},
     "output_type": "execute_result"
    }
   ],
   "source": [
    "import math\n",
    "\n",
    "reachEnd = False\n",
    "count = 0\n",
    "\n",
    "end_locations_dict = {}\n",
    "\n",
    "print(start_locations)\n",
    "\n",
    "for start_loc in start_locations:\n",
    "    current_loc = start_loc\n",
    "    reachEnd = False\n",
    "    count = 0 \n",
    "\n",
    "    while not reachEnd:\n",
    "        for step in steps:\n",
    "            current_loc = direction_dict[current_loc][step]\n",
    "            count += 1\n",
    "            if current_loc[-1] == 'Z':\n",
    "                end_locations_dict[current_loc] = count\n",
    "                reachEnd = True\n",
    "                break\n",
    "\n",
    "print(end_locations_dict)\n",
    "result_nums = []\n",
    "for key in end_locations_dict:\n",
    "    result_nums.append(end_locations_dict[key])\n",
    "\n",
    "lcm = math.lcm(*result_nums)\n",
    "\n",
    "lcm"
   ]
  }
 ],
 "metadata": {
  "kernelspec": {
   "display_name": "Python 3",
   "language": "python",
   "name": "python3"
  },
  "language_info": {
   "codemirror_mode": {
    "name": "ipython",
    "version": 3
   },
   "file_extension": ".py",
   "mimetype": "text/x-python",
   "name": "python",
   "nbconvert_exporter": "python",
   "pygments_lexer": "ipython3",
   "version": "3.10.10"
  }
 },
 "nbformat": 4,
 "nbformat_minor": 2
}
