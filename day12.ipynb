{
 "cells": [
  {
   "cell_type": "code",
   "execution_count": 1,
   "metadata": {},
   "outputs": [],
   "source": [
    "import json\n",
    "import requests\n",
    "\n",
    "url = \"https://adventofcode.com/2023/day/12/input\"\n",
    "\n",
    "with open(\"local.settings.json\", 'r') as file:\n",
    "    content = file.read()\n",
    "    data = json.loads(content)\n",
    "\n",
    "    session = data['session_token']\n",
    "\n",
    "headers = {\n",
    "    'Cookie': f'session={session}'\n",
    "}\n",
    "response = requests.get(url, headers=headers)\n",
    "\n",
    "if response.status_code == 200:\n",
    "    # Print the content of the response\n",
    "    pass\n",
    "else:\n",
    "    # Print an error message if the request was not successful\n",
    "    print(f\"Error: {response.status_code}\")\n",
    "    print(response.text)\n",
    "\n",
    "lines = response.text.split('\\n')[:-1]\n"
   ]
  },
  {
   "cell_type": "code",
   "execution_count": 2,
   "metadata": {},
   "outputs": [],
   "source": [
    "input_strings = []\n",
    "for line in lines:\n",
    "    input_strings.append(line.split(' ')[0])\n",
    "\n",
    "input_keys = []\n",
    "for line in lines:\n",
    "    input_keys.append(tuple(line.split(' ')[1].split(',')))\n"
   ]
  },
  {
   "cell_type": "code",
   "execution_count": 4,
   "metadata": {},
   "outputs": [
    {
     "data": {
      "text/plain": [
       "7163"
      ]
     },
     "execution_count": 4,
     "metadata": {},
     "output_type": "execute_result"
    }
   ],
   "source": [
    "from itertools import product\n",
    "\n",
    "total = 0\n",
    "\n",
    "test_string = '.??..??...?##.'\n",
    "\n",
    "options = ['.', '#']\n",
    "\n",
    "for string_index in range(len(input_strings)):\n",
    "\n",
    "    input_string = input_strings[string_index]\n",
    "    combinations = list(product(options, repeat=input_string.count('?')))\n",
    "\n",
    "    possible_combinations = []\n",
    "\n",
    "\n",
    "    for combination in combinations:\n",
    "        count = 0\n",
    "        new_string =''\n",
    "        for char in input_string:\n",
    "            if char == '?':\n",
    "                new_string += combination[count]\n",
    "                count += 1\n",
    "            else:\n",
    "                new_string += char\n",
    "        possible_combinations.append(new_string)\n",
    "\n",
    "    possible_combinations\n",
    "\n",
    "    key = input_keys[string_index]\n",
    "\n",
    "    def check_combo(key, combo):\n",
    "        broken_springs = combo.split('.')\n",
    "        broken_springs_cleaned = []\n",
    "        for entry in broken_springs:\n",
    "            if '#' in entry:\n",
    "                broken_springs_cleaned.append(entry)\n",
    "        # print(broken_springs_cleaned)\n",
    "        if len(broken_springs_cleaned) != len(key):\n",
    "            return False\n",
    "        else:\n",
    "            for i in range(len(broken_springs_cleaned)):\n",
    "                if len(broken_springs_cleaned[i]) != int(key[i]):\n",
    "                    return False\n",
    "        return True\n",
    "    passes = 0\n",
    "    for combo in possible_combinations:\n",
    "        # print(combo)\n",
    "        if check_combo(key, combo):\n",
    "            passes += 1\n",
    "\n",
    "    # print(passes)\n",
    "    total += passes\n",
    "total"
   ]
  },
  {
   "cell_type": "code",
   "execution_count": 5,
   "metadata": {},
   "outputs": [],
   "source": [
    "# Rework for p2\n",
    "\n",
    "import functools\n",
    "\n",
    "\n",
    "test_string = '?###??????????###??????????###??????????###??????????###????????'\n",
    "test_key = (3,2,1,3,2,1,3,2,1,3,2,1,3,2,1)\n",
    "\n",
    "@functools.lru_cache(maxsize=None)\n",
    "\n",
    "def calc(input_string, groups):\n",
    "\n",
    "    if not groups:\n",
    "        if '#' not in input_string:\n",
    "            return 1\n",
    "        else:\n",
    "            return 0\n",
    "    \n",
    "    if not input_string:\n",
    "        return 0\n",
    "    \n",
    "    next_char = input_string[0]\n",
    "    next_group = int(groups[0])\n",
    "\n",
    "    def next_dot():\n",
    "        return calc(input_string[1:], groups)\n",
    "    \n",
    "    def next_pound():\n",
    "\n",
    "        this_group = input_string[:next_group]\n",
    "        this_group = this_group.replace(\"?\", \"#\")\n",
    "\n",
    "        if this_group != next_group * \"#\":\n",
    "            return 0\n",
    "        \n",
    "        if len(input_string) == next_group:\n",
    "            if len(groups) == 1:\n",
    "                return 1\n",
    "            else:\n",
    "                return 0\n",
    "            \n",
    "        if input_string[next_group] in \"?.\":\n",
    "            return calc(input_string[next_group+1:], groups[1:])\n",
    "        \n",
    "        return 0\n",
    "    \n",
    "    # If next char is . we continue:\n",
    "    if next_char == '.':\n",
    "        out = next_dot()\n",
    "\n",
    "    elif next_char == '#':\n",
    "        out = next_pound()\n",
    "\n",
    "    elif next_char == '?':\n",
    "        out = next_dot() + next_pound()\n",
    "        \n",
    "\n",
    "\n",
    "    # print(input_string, groups, out)\n",
    "    return out\n",
    "\n"
   ]
  },
  {
   "cell_type": "code",
   "execution_count": 6,
   "metadata": {},
   "outputs": [
    {
     "data": {
      "text/plain": [
       "7163"
      ]
     },
     "execution_count": 6,
     "metadata": {},
     "output_type": "execute_result"
    }
   ],
   "source": [
    "output = 0\n",
    "input_strings = []\n",
    "for line in lines:\n",
    "    input_strings.append(line.split(' ')[0])\n",
    "\n",
    "input_keys = []\n",
    "for line in lines:\n",
    "    input_keys.append(tuple(line.split(' ')[1].split(',')))\n",
    "\n",
    "for i in range(len(input_strings)):\n",
    "    output += calc(input_strings[i], input_keys[i])\n",
    "output"
   ]
  },
  {
   "cell_type": "code",
   "execution_count": 7,
   "metadata": {},
   "outputs": [
    {
     "data": {
      "text/plain": [
       "17788038834112"
      ]
     },
     "execution_count": 7,
     "metadata": {},
     "output_type": "execute_result"
    }
   ],
   "source": [
    "output = 0\n",
    "input_strings = []\n",
    "for line in lines:\n",
    "    input_strings.append(((line.split(' ')[0] + '?') * 5)[:-1])\n",
    "\n",
    "input_keys = []\n",
    "for line in lines:\n",
    "    line = ((line.split(' ')[1] + ',')* 5)[:-1]\n",
    "    input_keys.append(tuple(line.split(',')))\n",
    "\n",
    "for i in range(len(input_strings)):\n",
    "    output += calc(input_strings[i], input_keys[i])\n",
    "output\n"
   ]
  }
 ],
 "metadata": {
  "kernelspec": {
   "display_name": "Python 3",
   "language": "python",
   "name": "python3"
  },
  "language_info": {
   "codemirror_mode": {
    "name": "ipython",
    "version": 3
   },
   "file_extension": ".py",
   "mimetype": "text/x-python",
   "name": "python",
   "nbconvert_exporter": "python",
   "pygments_lexer": "ipython3",
   "version": "3.10.10"
  }
 },
 "nbformat": 4,
 "nbformat_minor": 2
}
