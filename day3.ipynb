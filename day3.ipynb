{
 "cells": [
  {
   "cell_type": "code",
   "execution_count": 3,
   "metadata": {},
   "outputs": [
    {
     "data": {
      "text/plain": [
       "['..........................................389.314.................206......................449.523..................138.....................',\n",
       " '.........+.....954......723..........................................*.............687.....*..........692..........*........................',\n",
       " '121......992...............*.......%585....814............936.......102..#353.........*.....140.........*..434..301..................%..315.']"
      ]
     },
     "execution_count": 3,
     "metadata": {},
     "output_type": "execute_result"
    }
   ],
   "source": [
    "import requests\n",
    "import json\n",
    "\n",
    "url = \"https://adventofcode.com/2023/day/3/input\"\n",
    "\n",
    "with open(\"local.settings.json\", 'r') as file:\n",
    "    content = file.read()\n",
    "    data = json.loads(content)\n",
    "\n",
    "    session = data['session_token']\n",
    "\n",
    "headers = {\n",
    "    'Cookie': f'session={session}'\n",
    "}\n",
    "response = requests.get(url, headers=headers)\n",
    "\n",
    "if response.status_code == 200:\n",
    "    # Print the content of the response\n",
    "    pass\n",
    "else:\n",
    "    # Print an error message if the request was not successful\n",
    "    print(f\"Error: {response.status_code}\")\n",
    "    print(response.text)\n",
    "\n",
    "lines = response.text.split('\\n')[:-1]\n",
    "\n",
    "lines[:3]"
   ]
  },
  {
   "cell_type": "code",
   "execution_count": 5,
   "metadata": {},
   "outputs": [
    {
     "data": {
      "text/plain": [
       "530849"
      ]
     },
     "execution_count": 5,
     "metadata": {},
     "output_type": "execute_result"
    }
   ],
   "source": [
    "special_characters = set('!@#$%^&*-+=/_')\n",
    "\n",
    "# lines = [\n",
    "# '467..114..',\n",
    "# '...*......',\n",
    "# '..35..633.',\n",
    "# '......#...',\n",
    "# '617*......',\n",
    "# '.....+.58.',\n",
    "# '..592.....',\n",
    "# '......755.',\n",
    "# '...$.*....',\n",
    "# '.664.598..'\n",
    "# ]\n",
    "\n",
    "\n",
    "def check_for_symbol(start, end, row):\n",
    "    for y in range(row-1, row+2):\n",
    "        for x in range(start-1, end+2):\n",
    "            # print(f\"{x},{y}\")\n",
    "            if y < 0 or y >= len(lines):\n",
    "                continue\n",
    "            if x < 0 or x >= len(lines[0]):\n",
    "                continue\n",
    "            # try:\n",
    "            #     charcter = lines[y][x]\n",
    "            # except:\n",
    "            #     continue\n",
    "            if lines[y][x] in special_characters:\n",
    "                return True\n",
    "    \n",
    "    return False\n",
    "        \n",
    "\n",
    "\n",
    "\n",
    "\n",
    "total = 0\n",
    "taken =[]\n",
    "counter = 1\n",
    "for i in range(0, len(lines)):\n",
    "    # print(lines[i])\n",
    "    group = \"\"\n",
    "    start_index = 0\n",
    "    end_index = 0\n",
    "    for char_index in range(0, len(lines[i])):\n",
    "        line = lines[i]\n",
    "        if not line[char_index].isdigit():\n",
    "            if group != \"\":\n",
    "                end_index = char_index - 1\n",
    "                # print(f\"{group} {start_index} {end_index}\")\n",
    "                if check_for_symbol(start_index, end_index, i):\n",
    "                    total += int(group)\n",
    "                    taken.append(int(group))\n",
    "                group = \"\"\n",
    "            continue\n",
    "        if line[char_index].isdigit():\n",
    "            if group == \"\":\n",
    "                start_index = char_index\n",
    "            group += line[char_index]\n",
    "            if char_index == len(lines[i]) -1:\n",
    "                end_index = char_index\n",
    "                # print(f\"{group} {start_index} {end_index}\")\n",
    "                if check_for_symbol(start_index, end_index, i):\n",
    "                    total += int(group)\n",
    "                    taken.append(int(group))\n",
    "                group = \"\"\n",
    "    # print(f\"{counter}: {taken}\")\n",
    "    counter +=1\n",
    "    taken = []\n",
    "\n",
    "total\n"
   ]
  },
  {
   "cell_type": "code",
   "execution_count": 6,
   "metadata": {},
   "outputs": [
    {
     "data": {
      "text/plain": [
       "84900879"
      ]
     },
     "execution_count": 6,
     "metadata": {},
     "output_type": "execute_result"
    }
   ],
   "source": [
    "# lines = [\n",
    "# '467..114..',\n",
    "# '...*......',\n",
    "# '..35..633.',\n",
    "# '......#...',\n",
    "# '617*......',\n",
    "# '.....+.58.',\n",
    "# '..592.....',\n",
    "# '......755.',\n",
    "# '...$.*....',\n",
    "# '.664.598..'\n",
    "# ]\n",
    "\n",
    "def get_numbers_for_star(start, row):\n",
    "    nums = []\n",
    "    for y in range(row-1, row+2):\n",
    "        for x in range(start-1, start+2):\n",
    "            # print(f\"{x},{y}\")\n",
    "            if y < 0 or y >= len(lines):\n",
    "                continue\n",
    "            if x < 0 or x >= len(lines[0]):\n",
    "                continue\n",
    "            char = lines[y][x]\n",
    "            if lines[y][x].isdigit():\n",
    "                # print(lines[y][x])\n",
    "                num = get_num(x, y)\n",
    "                # print(f\"{num}\")\n",
    "                if num not in nums:\n",
    "                    nums.append(num)\n",
    "    return nums\n",
    "\n",
    "\n",
    "def get_num(start, row):\n",
    "    line_row = lines[row]\n",
    "    # print(line_row)\n",
    "    i = start - 1\n",
    "    while line_row[i].isdigit() and i >= 0:\n",
    "        # print(line_row[i])\n",
    "        i -= 1\n",
    "    num_str = \"\"\n",
    "    i += 1\n",
    "    while line_row[i].isdigit():\n",
    "        num_str += line_row[i]\n",
    "        i += 1\n",
    "        if i >= len(line_row):\n",
    "            break\n",
    "    return int(num_str)\n",
    "\n",
    "total = 0\n",
    "\n",
    "for i in range(0, len(lines)):\n",
    "# for i in range(0, 3):\n",
    "    # print(lines[i])\n",
    "    for char_index in range(0, len(lines[i])):\n",
    "        line = lines[i]\n",
    "        if line[char_index] == \"*\":\n",
    "            num_list = get_numbers_for_star(char_index, i)\n",
    "            # print(num_list)\n",
    "            if len(num_list) == 2:\n",
    "                total += num_list[0] * num_list[1]\n",
    "            \n",
    "total    "
   ]
  }
 ],
 "metadata": {
  "kernelspec": {
   "display_name": "Python 3",
   "language": "python",
   "name": "python3"
  },
  "language_info": {
   "codemirror_mode": {
    "name": "ipython",
    "version": 3
   },
   "file_extension": ".py",
   "mimetype": "text/x-python",
   "name": "python",
   "nbconvert_exporter": "python",
   "pygments_lexer": "ipython3",
   "version": "3.10.10"
  }
 },
 "nbformat": 4,
 "nbformat_minor": 2
}
