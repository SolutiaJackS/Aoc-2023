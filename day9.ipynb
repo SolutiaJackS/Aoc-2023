{
 "cells": [
  {
   "cell_type": "code",
   "execution_count": 3,
   "metadata": {},
   "outputs": [],
   "source": [
    "import requests\n",
    "import json\n",
    "\n",
    "url = \"https://adventofcode.com/2023/day/9/input\"\n",
    "\n",
    "with open(\"local.settings.json\", 'r') as file:\n",
    "    content = file.read()\n",
    "    data = json.loads(content)\n",
    "\n",
    "    session = data['session_token']\n",
    "\n",
    "headers = {\n",
    "    'Cookie': f'session={session}'\n",
    "}\n",
    "response = requests.get(url, headers=headers)\n",
    "\n",
    "if response.status_code == 200:\n",
    "    # Print the content of the response\n",
    "    pass\n",
    "else:\n",
    "    # Print an error message if the request was not successful\n",
    "    print(f\"Error: {response.status_code}\")\n",
    "    print(response.text)\n",
    "\n",
    "lines = response.text.split('\\n')[:-1]"
   ]
  },
  {
   "cell_type": "code",
   "execution_count": 21,
   "metadata": {},
   "outputs": [
    {
     "name": "stdout",
     "output_type": "stream",
     "text": [
      "[14, 16, 18, 20, 22, 24, 26, 28, 30, 32, 34, 36, 38, 40, 42, 44, 46, 48, 50, 52, 54]\n",
      "[2, 2, 2, 2, 2, 2, 2, 2, 2, 2, 2, 2, 2, 2, 2, 2, 2, 2, 2, 2]\n",
      "[54, 2, 0]\n",
      "[0, 2, 54]\n"
     ]
    },
    {
     "data": {
      "text/plain": [
       "56"
      ]
     },
     "execution_count": 21,
     "metadata": {},
     "output_type": "execute_result"
    }
   ],
   "source": [
    "test_input = lines[0].split(' ')\n",
    "test_input = [int(num) for num in test_input]\n",
    "test_input\n",
    "\n",
    "differences = []\n",
    "differences_2 = []\n",
    "last_values = []\n",
    "\n",
    "for i in range(0, len(test_input) - 1):\n",
    "    differences.append(test_input[i+1] - test_input[i])\n",
    "for i in range(0, len(differences) - 1):\n",
    "    differences_2.append(differences[i+1] - differences[i])\n",
    "last_values.append(test_input[-1])\n",
    "last_values.append(differences[-1])\n",
    "last_values.append(differences_2[-1])\n",
    "\n",
    "print(test_input)\n",
    "print(differences)\n",
    "print(last_values)\n",
    "\n",
    "last_values.reverse()\n",
    "print(last_values)\n",
    "\n",
    "\n",
    "final_val = 0\n",
    "for i in range(1, len(last_values)-1):\n",
    "    final_val = last_values[i] + last_values[i + 1]\n",
    "\n",
    "final_val\n"
   ]
  },
  {
   "cell_type": "code",
   "execution_count": 19,
   "metadata": {},
   "outputs": [
    {
     "data": {
      "text/plain": [
       "1995001648"
      ]
     },
     "execution_count": 19,
     "metadata": {},
     "output_type": "execute_result"
    }
   ],
   "source": [
    "start_values = []\n",
    "differences = []\n",
    "last_values = []\n",
    "\n",
    "# start_values = lines[1].split(' ')\n",
    "# start_values =[int(num) for num in start_values]\n",
    "# # print(start_values)\n",
    "\n",
    "total = 0\n",
    "for line in lines:\n",
    "    all_zeros = False\n",
    "    start_values = line.split(' ')\n",
    "    start_values =[int(num) for num in start_values]\n",
    "    last_values.insert(0, start_values[-1])\n",
    "    # print(start_values)\n",
    "    while not all_zeros:\n",
    "        for i in range(0, len(start_values) - 1):\n",
    "            all_zeros = True\n",
    "            diff = start_values[i+1] - start_values[i]\n",
    "            differences.append(diff)\n",
    "            if diff != 0:\n",
    "                all_zeros = False\n",
    "        # print(differences)\n",
    "        last_values.insert(0, differences[-1])\n",
    "        start_values = differences\n",
    "        differences = []\n",
    "\n",
    "        # print(last_values)\n",
    "\n",
    "    next_diff = 0\n",
    "    for i in range(1, len(last_values)):\n",
    "        # print(f\"{next_diff} + {last_values[i]}\")\n",
    "        next_diff = next_diff + last_values[i]\n",
    "    \n",
    "    last_values = []\n",
    "    differences = []\n",
    "    start_values = []\n",
    "    # print(final_val)\n",
    "    total += next_diff\n",
    "\n",
    "total"
   ]
  },
  {
   "cell_type": "code",
   "execution_count": 20,
   "metadata": {},
   "outputs": [
    {
     "data": {
      "text/plain": [
       "988"
      ]
     },
     "execution_count": 20,
     "metadata": {},
     "output_type": "execute_result"
    }
   ],
   "source": [
    "# part 2\n",
    "start_values = []\n",
    "differences = []\n",
    "first_values = []\n",
    "\n",
    "# start_values = lines[1].split(' ')\n",
    "# start_values =[int(num) for num in start_values]\n",
    "# # print(start_values)\n",
    "\n",
    "total = 0\n",
    "for line in lines:\n",
    "    all_zeros = False\n",
    "    start_values = line.split(' ')\n",
    "    start_values =[int(num) for num in start_values]\n",
    "    first_values.insert(0, start_values[0])\n",
    "    # print(start_values)\n",
    "    while not all_zeros:\n",
    "        for i in range(0, len(start_values) - 1):\n",
    "            all_zeros = True\n",
    "            diff = start_values[i+1] - start_values[i]\n",
    "            differences.append(diff)\n",
    "            if diff != 0:\n",
    "                all_zeros = False\n",
    "        # print(differences)\n",
    "        first_values.insert(0, differences[0])\n",
    "        start_values = differences\n",
    "        differences = []\n",
    "\n",
    "        # print(first_values)\n",
    "\n",
    "    next_diff = 0\n",
    "    for i in range(0, len(first_values)):\n",
    "        # print(f\"{first_values[i]} - {next_diff} = {first_values[i] - next_diff}\")\n",
    "        next_diff = first_values[i] - next_diff\n",
    "    \n",
    "    first_values = []\n",
    "    differences = []\n",
    "    start_values = []\n",
    "    # print(final_val)\n",
    "    total += next_diff\n",
    "\n",
    "total"
   ]
  }
 ],
 "metadata": {
  "kernelspec": {
   "display_name": "Python 3",
   "language": "python",
   "name": "python3"
  },
  "language_info": {
   "codemirror_mode": {
    "name": "ipython",
    "version": 3
   },
   "file_extension": ".py",
   "mimetype": "text/x-python",
   "name": "python",
   "nbconvert_exporter": "python",
   "pygments_lexer": "ipython3",
   "version": "3.10.10"
  }
 },
 "nbformat": 4,
 "nbformat_minor": 2
}
