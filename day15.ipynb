{
 "cells": [
  {
   "cell_type": "code",
   "execution_count": 1,
   "metadata": {},
   "outputs": [],
   "source": [
    "import json\n",
    "import requests\n",
    "\n",
    "url = \"https://adventofcode.com/2023/day/15/input\"\n",
    "\n",
    "with open(\"local.settings.json\", 'r') as file:\n",
    "    content = file.read()\n",
    "    data = json.loads(content)\n",
    "\n",
    "    session = data['session_token']\n",
    "\n",
    "headers = {\n",
    "    'Cookie': f'session={session}'\n",
    "}\n",
    "response = requests.get(url, headers=headers)\n",
    "\n",
    "if response.status_code == 200:\n",
    "    # Print the content of the response\n",
    "    pass\n",
    "else:\n",
    "    # Print an error message if the request was not successful\n",
    "    print(f\"Error: {response.status_code}\")\n",
    "    print(response.text)\n",
    "\n",
    "lines = response.text.split(',')\n",
    "lines[-1] = lines[-1].strip()\n",
    "\n"
   ]
  },
  {
   "cell_type": "code",
   "execution_count": 2,
   "metadata": {},
   "outputs": [
    {
     "data": {
      "text/plain": [
       "504036"
      ]
     },
     "execution_count": 2,
     "metadata": {},
     "output_type": "execute_result"
    }
   ],
   "source": [
    "def hash(str):\n",
    "    curr_val = 0\n",
    "    for char in str:\n",
    "        ascii_val = ord(char)\n",
    "        curr_val += ascii_val\n",
    "        curr_val *= 17\n",
    "        curr_val = curr_val % 256\n",
    "    return curr_val\n",
    "\n",
    "total = 0\n",
    "for line in lines:\n",
    "    total += hash(line)\n",
    "total"
   ]
  },
  {
   "cell_type": "code",
   "execution_count": 3,
   "metadata": {},
   "outputs": [
    {
     "data": {
      "text/plain": [
       "295719"
      ]
     },
     "execution_count": 3,
     "metadata": {},
     "output_type": "execute_result"
    }
   ],
   "source": [
    "# lines = [\"rn=1\", \"cm-\", \"qp=3\", \"cm=2\", \"qp-\", \"pc=4\", \"ot=9\", \"ab=5\", \"pc-\", \"pc=6\", \"ot=7\"]\n",
    "\n",
    "boxes = [0] * 256\n",
    "for i in range(len(boxes)):\n",
    "    boxes[i] = []\n",
    "\n",
    "for line in lines:\n",
    "    if \"=\" in line:\n",
    "        entry = line.replace(\"=\", \" \").split(\" \")\n",
    "        label = entry[0]\n",
    "        code = hash(label)\n",
    "        found = False\n",
    "        if len(boxes[code]) != 0:\n",
    "            for i in range(len(boxes[code])):\n",
    "                lense = boxes[code][i]\n",
    "                if lense[0] == label:\n",
    "                    found = True\n",
    "                    boxes[code][i] = entry\n",
    "                    break\n",
    "\n",
    "        if not found:\n",
    "            boxes[code].append(entry)\n",
    "    if \"-\" in line:\n",
    "        label = line.replace(\"-\", \"\").strip()\n",
    "        code = hash(label)\n",
    "        if len(boxes[code]) != 0:\n",
    "            for i in range(len(boxes[code])):\n",
    "                lense = boxes[code][i]\n",
    "                if lense[0] == label:\n",
    "                    boxes[code].remove(boxes[code][i])\n",
    "                    break\n",
    "\n",
    "\n",
    "# for i in range(len(boxes)):\n",
    "#     entry = str(i) + ' '\n",
    "#     for j in range(len(boxes[i])):\n",
    "#         entry += str(boxes[i][j]) + \" \"\n",
    "#     print(entry)\n",
    "\n",
    "total = 0\n",
    "for i in range(len(boxes)):\n",
    "    entry = str(i) + ' '\n",
    "    for j in range(len(boxes[i])):\n",
    "        total += (i + 1)*(j+1)*int(boxes[i][j][1])\n",
    "total"
   ]
  }
 ],
 "metadata": {
  "kernelspec": {
   "display_name": "Python 3",
   "language": "python",
   "name": "python3"
  },
  "language_info": {
   "codemirror_mode": {
    "name": "ipython",
    "version": 3
   },
   "file_extension": ".py",
   "mimetype": "text/x-python",
   "name": "python",
   "nbconvert_exporter": "python",
   "pygments_lexer": "ipython3",
   "version": "3.10.10"
  }
 },
 "nbformat": 4,
 "nbformat_minor": 2
}
