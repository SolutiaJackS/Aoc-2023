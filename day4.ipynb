{
 "cells": [
  {
   "cell_type": "code",
   "execution_count": 4,
   "metadata": {},
   "outputs": [
    {
     "data": {
      "text/plain": [
       "['Card   1: 33 34 29 52 91  7 31 42  2  6 | 53 52  6 96 42 91  2 23  7 38 90 28 31 51  1 26 33 22 95 34 29 77 32 86  3',\n",
       " 'Card   2: 63 86  6  5 95 17  7 72 62 76 | 26  6 86 68 49 57 30 63 80  5 96 84 42 19 53  7 87 78 70 74 15 17 64 16 44',\n",
       " 'Card   3: 22 25  2 41 27 23  5  1 50 37 | 68 94 25  4 48 75 47 37 58 22 95 16 74 50 66 99 34 35 41 90  2 43 62  1 97']"
      ]
     },
     "execution_count": 4,
     "metadata": {},
     "output_type": "execute_result"
    }
   ],
   "source": [
    "import requests\n",
    "import json\n",
    "\n",
    "url = \"https://adventofcode.com/2023/day/4/input\"\n",
    "\n",
    "with open(\"local.settings.json\", 'r') as file:\n",
    "    content = file.read()\n",
    "    data = json.loads(content)\n",
    "\n",
    "    session = data['session_token']\n",
    "\n",
    "headers = {\n",
    "    'Cookie': f'session={session}'\n",
    "}\n",
    "response = requests.get(url, headers=headers)\n",
    "\n",
    "if response.status_code == 200:\n",
    "    # Print the content of the response\n",
    "    pass\n",
    "else:\n",
    "    # Print an error message if the request was not successful\n",
    "    print(f\"Error: {response.status_code}\")\n",
    "    print(response.text)\n",
    "\n",
    "lines = response.text.split('\\n')[:-1]\n",
    "lines[:3]"
   ]
  },
  {
   "cell_type": "code",
   "execution_count": 6,
   "metadata": {},
   "outputs": [
    {
     "data": {
      "text/plain": [
       "22897"
      ]
     },
     "execution_count": 6,
     "metadata": {},
     "output_type": "execute_result"
    }
   ],
   "source": [
    "# lines = [\n",
    "# 'Card 1: 41 48 83 86 17 | 83 86  6 31 17  9 48 53',\n",
    "# 'Card 2: 13 32 20 16 61 | 61 30 68 82 17 32 24 19',\n",
    "# 'Card 3:  1 21 53 59 44 | 69 82 63 72 16 21 14  1',\n",
    "# 'Card 4: 41 92 73 84 69 | 59 84 76 51 58  5 54 83',\n",
    "# 'Card 5: 87 83 26 28 32 | 88 30 70 12 93 22 82 36',\n",
    "# 'Card 6: 31 18 13 56 72 | 74 77 10 23 35 67 36 11',\n",
    "# ]\n",
    "total = 0\n",
    "\n",
    "for line in lines:\n",
    "    card_winners = line.split(\": \")[1].split(\"|\")[0].split(\" \")\n",
    "    for winner in card_winners:\n",
    "        if winner == '':\n",
    "            card_winners.remove(winner)\n",
    "    card_winners\n",
    "\n",
    "    card_my_nums = line.split(\": \")[1].split(\"|\")[1].split(\" \")\n",
    "    for num in card_my_nums:\n",
    "        if num == '':\n",
    "            card_my_nums.remove(num)\n",
    "    card_my_nums\n",
    "\n",
    "    win_count = 0\n",
    "    for num in card_my_nums:\n",
    "        if num in card_winners:\n",
    "            # print(num)\n",
    "            win_count += 1\n",
    "    # print(f\"{line} {win_count}\")\n",
    "    if win_count > 0:\n",
    "        total += pow(2, win_count-1)\n",
    "total"
   ]
  },
  {
   "cell_type": "code",
   "execution_count": 8,
   "metadata": {},
   "outputs": [
    {
     "data": {
      "text/plain": [
       "5095824"
      ]
     },
     "execution_count": 8,
     "metadata": {},
     "output_type": "execute_result"
    }
   ],
   "source": [
    "# lines = [\n",
    "# 'Card 1: 41 48 83 86 17 | 83 86  6 31 17  9 48 53',\n",
    "# 'Card 2: 13 32 20 16 61 | 61 30 68 82 17 32 24 19',\n",
    "# 'Card 3:  1 21 53 59 44 | 69 82 63 72 16 21 14  1',\n",
    "# 'Card 4: 41 92 73 84 69 | 59 84 76 51 58  5 54 83',\n",
    "# 'Card 5: 87 83 26 28 32 | 88 30 70 12 93 22 82 36',\n",
    "# 'Card 6: 31 18 13 56 72 | 74 77 10 23 35 67 36 11',\n",
    "# ]\n",
    "total = 0\n",
    "copies = []\n",
    "for line in lines:\n",
    "    copies.append(1)\n",
    "\n",
    "# print(copies)\n",
    "for line in lines:\n",
    "    line_index = lines.index(line)\n",
    "    card_winners = line.split(\": \")[1].split(\"|\")[0].split(\" \")\n",
    "    for winner in card_winners:\n",
    "        if winner == '':\n",
    "            card_winners.remove(winner)\n",
    "    card_winners\n",
    "\n",
    "    card_my_nums = line.split(\": \")[1].split(\"|\")[1].split(\" \")\n",
    "    for num in card_my_nums:\n",
    "        if num == '':\n",
    "            card_my_nums.remove(num)\n",
    "    card_my_nums\n",
    "\n",
    "    win_count = 0\n",
    "    for num in card_my_nums:\n",
    "        if num in card_winners:\n",
    "            # print(num)\n",
    "            win_count += 1\n",
    "    for i in range(1, win_count+1):\n",
    "        copies[line_index+i] += copies[line_index]\n",
    "    total += copies[line_index]\n",
    "    copies[line_index] = 0\n",
    "    # print(copies)\n",
    "total"
   ]
  }
 ],
 "metadata": {
  "kernelspec": {
   "display_name": "Python 3",
   "language": "python",
   "name": "python3"
  },
  "language_info": {
   "codemirror_mode": {
    "name": "ipython",
    "version": 3
   },
   "file_extension": ".py",
   "mimetype": "text/x-python",
   "name": "python",
   "nbconvert_exporter": "python",
   "pygments_lexer": "ipython3",
   "version": "3.10.10"
  }
 },
 "nbformat": 4,
 "nbformat_minor": 2
}
