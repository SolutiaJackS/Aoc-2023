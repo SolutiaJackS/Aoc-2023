{
 "cells": [
  {
   "cell_type": "code",
   "execution_count": 1,
   "metadata": {},
   "outputs": [
    {
     "name": "stdout",
     "output_type": "stream",
     "text": [
      "Game 1: 4 blue, 7 red, 5 green; 3 blue, 4 red, 16 green; 3 red, 11 green\n"
     ]
    }
   ],
   "source": [
    "import requests\n",
    "\n",
    "url = \"https://adventofcode.com/2023/day/2/input\"\n",
    "\n",
    "headers = {\n",
    "    'Cookie': 'session=53616c7465645f5f8b99771ea5191e6aa57c0f163b1dc1f7ff6113c253597590f6dd4c4bb399d4f6399a833c35064b3a7a9f05c2f892ebe776a643c85280ba43'\n",
    "}\n",
    "response = requests.get(url, headers=headers)\n",
    "\n",
    "if response.status_code == 200:\n",
    "    # Print the content of the response\n",
    "    pass\n",
    "else:\n",
    "    # Print an error message if the request was not successful\n",
    "    print(f\"Error: {response.status_code}\")\n",
    "    print(response.text)\n",
    "\n",
    "lines = response.text.split('\\n')[0]\n",
    "print(lines)\n",
    "\n"
   ]
  },
  {
   "cell_type": "code",
   "execution_count": 58,
   "metadata": {},
   "outputs": [
    {
     "data": {
      "text/plain": [
       "2512"
      ]
     },
     "execution_count": 58,
     "metadata": {},
     "output_type": "execute_result"
    }
   ],
   "source": [
    "# Part 1\n",
    "def color_val_check(val, color):\n",
    "    green = 13\n",
    "    blue = 14\n",
    "    red = 12\n",
    "    if color == \"green\" and val <= green:\n",
    "        return True\n",
    "    if color == \"blue\" and val <= blue:\n",
    "        return True\n",
    "    if color == \"red\" and val <= red:\n",
    "        return True\n",
    "    return False\n",
    "        \n",
    "\n",
    "games = response.text.split('\\n')[:100]\n",
    "\n",
    "total = 0\n",
    "\n",
    "for game in games:\n",
    "    game_num = int(game.split(\": \")[0].split(\" \")[1])\n",
    "    bag_grabs = game.split(\": \")[1:][0].split(\"; \")\n",
    "    fail = False\n",
    "    for grab in bag_grabs:\n",
    "        color_vals = grab.split(\", \")\n",
    "        for color_val in color_vals:\n",
    "            val = int(color_val.split(\" \")[0])\n",
    "            color = color_val.split(\" \")[1]\n",
    "            # print(str(val) + \" \" +color)\n",
    "            if not color_val_check(val, color):\n",
    "                # print(\"Fail\")\n",
    "                fail = True\n",
    "    if not fail:\n",
    "        total += game_num\n",
    "        pass\n",
    "\n",
    "total"
   ]
  },
  {
   "cell_type": "code",
   "execution_count": 7,
   "metadata": {},
   "outputs": [
    {
     "data": {
      "text/plain": [
       "67335"
      ]
     },
     "execution_count": 7,
     "metadata": {},
     "output_type": "execute_result"
    }
   ],
   "source": [
    "# Part 2\n",
    "games = response.text.split('\\n')[:100]\n",
    "# games = ['Game 1: 3 blue, 4 red; 1 red, 2 green, 6 blue; 2 green']\n",
    "total = 0\n",
    "\n",
    "for game in games:\n",
    "    game_num = int(game.split(\": \")[0].split(\" \")[1])\n",
    "    bag_grabs = game.split(\": \")[1:][0].split(\"; \")\n",
    "    green = 0\n",
    "    blue = 0\n",
    "    red = 0\n",
    "    for grab in bag_grabs:\n",
    "        color_vals = grab.split(\", \")\n",
    "        for color_val in color_vals:\n",
    "            val = int(color_val.split(\" \")[0])\n",
    "            color = color_val.split(\" \")[1]\n",
    "            # print(str(val) + \" \" +color)\n",
    "            # if not color_val_check(val, color):\n",
    "            #     # print(\"Fail\")\n",
    "            #     fail = True\n",
    "            if color == \"red\" and val > red:\n",
    "                red = val\n",
    "            elif color == \"blue\" and val > blue:\n",
    "                blue = val\n",
    "            elif color == \"green\" and val > green:\n",
    "                green = val\n",
    "    total += red * blue * green\n",
    "\n",
    "\n",
    "total"
   ]
  }
 ],
 "metadata": {
  "kernelspec": {
   "display_name": "Python 3",
   "language": "python",
   "name": "python3"
  },
  "language_info": {
   "codemirror_mode": {
    "name": "ipython",
    "version": 3
   },
   "file_extension": ".py",
   "mimetype": "text/x-python",
   "name": "python",
   "nbconvert_exporter": "python",
   "pygments_lexer": "ipython3",
   "version": "3.10.10"
  }
 },
 "nbformat": 4,
 "nbformat_minor": 2
}
